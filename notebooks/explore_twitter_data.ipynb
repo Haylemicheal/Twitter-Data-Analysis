{
 "cells": [
  {
   "cell_type": "markdown",
   "id": "e4e95d73",
   "metadata": {},
   "source": [
    "# Data Understanding"
   ]
  },
  {
   "cell_type": "code",
   "execution_count": 16,
   "id": "5e104b91",
   "metadata": {},
   "outputs": [],
   "source": [
    "import warnings\n",
    "warnings.filterwarnings('ignore')\n",
    "import matplotlib.pyplot as plt\n",
    "import seaborn as sns\n",
    "import gensim\n",
    "from gensim.models import CoherenceModel\n",
    "from gensim import corpora\n",
    "import pandas as pd\n",
    "from pprint import pprint\n",
    "import string\n",
    "import os\n",
    "import re"
   ]
  },
  {
   "cell_type": "code",
   "execution_count": 17,
   "id": "fa3d03b9",
   "metadata": {},
   "outputs": [],
   "source": [
    "#data loader class\n",
    "class DataLoader:\n",
    "    def __init__(self,dir_name,file_name):\n",
    "        self.dir_name=dir_name\n",
    "        self.file_name = file_name\n",
    "    \n",
    " \n",
    "    def read_csv(self):\n",
    "        os.chdir(self.dir_name)\n",
    "        tweets_df=pd.read_csv(self.file_name)\n",
    "        return tweets_df\n",
    "  \n",
    "    "
   ]
  },
  {
   "cell_type": "code",
   "execution_count": 18,
   "id": "e4f68cb2",
   "metadata": {},
   "outputs": [],
   "source": [
    "#object creation\n",
    "DataLoader_obj= DataLoader('../data/','processed_tweet_data.csv')"
   ]
  },
  {
   "cell_type": "markdown",
   "id": "a9e4c8b5",
   "metadata": {},
   "source": [
    "# Columns of the data"
   ]
  },
  {
   "cell_type": "code",
   "execution_count": 19,
   "id": "44d1c8f3",
   "metadata": {},
   "outputs": [
    {
     "data": {
      "text/html": [
       "<div>\n",
       "<style scoped>\n",
       "    .dataframe tbody tr th:only-of-type {\n",
       "        vertical-align: middle;\n",
       "    }\n",
       "\n",
       "    .dataframe tbody tr th {\n",
       "        vertical-align: top;\n",
       "    }\n",
       "\n",
       "    .dataframe thead th {\n",
       "        text-align: right;\n",
       "    }\n",
       "</style>\n",
       "<table border=\"1\" class=\"dataframe\">\n",
       "  <thead>\n",
       "    <tr style=\"text-align: right;\">\n",
       "      <th></th>\n",
       "      <th>created_at</th>\n",
       "      <th>source</th>\n",
       "      <th>original_text</th>\n",
       "      <th>polarity</th>\n",
       "      <th>subjectivity</th>\n",
       "      <th>lang</th>\n",
       "      <th>favorite_count</th>\n",
       "      <th>retweet_count</th>\n",
       "      <th>original_author</th>\n",
       "      <th>followers_count</th>\n",
       "      <th>friends_count</th>\n",
       "      <th>possibly_sensitive</th>\n",
       "      <th>hashtags</th>\n",
       "      <th>user_mentions</th>\n",
       "      <th>place</th>\n",
       "    </tr>\n",
       "  </thead>\n",
       "  <tbody>\n",
       "  </tbody>\n",
       "</table>\n",
       "</div>"
      ],
      "text/plain": [
       "Empty DataFrame\n",
       "Columns: [created_at, source, original_text, polarity, subjectivity, lang, favorite_count, retweet_count, original_author, followers_count, friends_count, possibly_sensitive, hashtags, user_mentions, place]\n",
       "Index: []"
      ]
     },
     "execution_count": 19,
     "metadata": {},
     "output_type": "execute_result"
    }
   ],
   "source": [
    "tweets_df=DataLoader_obj.read_csv()\n",
    "tweets_df.dropna()"
   ]
  },
  {
   "cell_type": "markdown",
   "id": "72c97d21",
   "metadata": {},
   "source": [
    "# Number of rows"
   ]
  },
  {
   "cell_type": "code",
   "execution_count": 20,
   "id": "85ff96d0",
   "metadata": {},
   "outputs": [
    {
     "data": {
      "text/plain": [
       "22000"
      ]
     },
     "execution_count": 20,
     "metadata": {},
     "output_type": "execute_result"
    }
   ],
   "source": [
    "len(tweets_df)"
   ]
  },
  {
   "cell_type": "markdown",
   "id": "eca52fd1",
   "metadata": {},
   "source": [
    "# The first 5 rows"
   ]
  },
  {
   "cell_type": "code",
   "execution_count": 21,
   "id": "035386f7",
   "metadata": {},
   "outputs": [
    {
     "data": {
      "text/html": [
       "<div>\n",
       "<style scoped>\n",
       "    .dataframe tbody tr th:only-of-type {\n",
       "        vertical-align: middle;\n",
       "    }\n",
       "\n",
       "    .dataframe tbody tr th {\n",
       "        vertical-align: top;\n",
       "    }\n",
       "\n",
       "    .dataframe thead th {\n",
       "        text-align: right;\n",
       "    }\n",
       "</style>\n",
       "<table border=\"1\" class=\"dataframe\">\n",
       "  <thead>\n",
       "    <tr style=\"text-align: right;\">\n",
       "      <th></th>\n",
       "      <th>created_at</th>\n",
       "      <th>source</th>\n",
       "      <th>original_text</th>\n",
       "      <th>polarity</th>\n",
       "      <th>subjectivity</th>\n",
       "      <th>lang</th>\n",
       "      <th>favorite_count</th>\n",
       "      <th>retweet_count</th>\n",
       "      <th>original_author</th>\n",
       "      <th>followers_count</th>\n",
       "      <th>friends_count</th>\n",
       "      <th>possibly_sensitive</th>\n",
       "      <th>hashtags</th>\n",
       "      <th>user_mentions</th>\n",
       "      <th>place</th>\n",
       "    </tr>\n",
       "  </thead>\n",
       "  <tbody>\n",
       "    <tr>\n",
       "      <th>0</th>\n",
       "      <td>Sun Aug 07 22:31:20 +0000 2022</td>\n",
       "      <td>&lt;a href=\"http://twitter.com/download/android\" ...</td>\n",
       "      <td>RT @i_ameztoy: Extra random image (I):\\n\\nLets...</td>\n",
       "      <td>-1.250000e-01</td>\n",
       "      <td>0.190625</td>\n",
       "      <td>NaN</td>\n",
       "      <td>0</td>\n",
       "      <td>2</td>\n",
       "      <td>i_ameztoy</td>\n",
       "      <td>20497</td>\n",
       "      <td>2621</td>\n",
       "      <td>NaN</td>\n",
       "      <td>['City']</td>\n",
       "      <td>['i_ameztoy']</td>\n",
       "      <td>NaN</td>\n",
       "    </tr>\n",
       "    <tr>\n",
       "      <th>1</th>\n",
       "      <td>Sun Aug 07 22:31:16 +0000 2022</td>\n",
       "      <td>&lt;a href=\"http://twitter.com/download/android\" ...</td>\n",
       "      <td>RT @IndoPac_Info: #China's media explains the ...</td>\n",
       "      <td>-1.000000e-01</td>\n",
       "      <td>0.100000</td>\n",
       "      <td>NaN</td>\n",
       "      <td>0</td>\n",
       "      <td>201</td>\n",
       "      <td>ZIisq</td>\n",
       "      <td>65</td>\n",
       "      <td>272</td>\n",
       "      <td>NaN</td>\n",
       "      <td>['China', 'Taiwan']</td>\n",
       "      <td>['IndoPac_Info']</td>\n",
       "      <td>NaN</td>\n",
       "    </tr>\n",
       "    <tr>\n",
       "      <th>2</th>\n",
       "      <td>Sun Aug 07 22:31:07 +0000 2022</td>\n",
       "      <td>&lt;a href=\"http://twitter.com/download/android\" ...</td>\n",
       "      <td>China even cut off communication, they don't a...</td>\n",
       "      <td>0.000000e+00</td>\n",
       "      <td>0.000000</td>\n",
       "      <td>NaN</td>\n",
       "      <td>0</td>\n",
       "      <td>0</td>\n",
       "      <td>Fin21Free</td>\n",
       "      <td>85</td>\n",
       "      <td>392</td>\n",
       "      <td>NaN</td>\n",
       "      <td>['XiJinping']</td>\n",
       "      <td>['ZelenskyyUa']</td>\n",
       "      <td>Netherlands</td>\n",
       "    </tr>\n",
       "    <tr>\n",
       "      <th>3</th>\n",
       "      <td>Sun Aug 07 22:31:06 +0000 2022</td>\n",
       "      <td>&lt;a href=\"http://twitter.com/download/android\" ...</td>\n",
       "      <td>Putin to #XiJinping : I told you my friend, Ta...</td>\n",
       "      <td>1.000000e-01</td>\n",
       "      <td>0.350000</td>\n",
       "      <td>NaN</td>\n",
       "      <td>0</td>\n",
       "      <td>0</td>\n",
       "      <td>Fin21Free</td>\n",
       "      <td>85</td>\n",
       "      <td>392</td>\n",
       "      <td>NaN</td>\n",
       "      <td>['XiJinping']</td>\n",
       "      <td>[]</td>\n",
       "      <td>Netherlands</td>\n",
       "    </tr>\n",
       "    <tr>\n",
       "      <th>4</th>\n",
       "      <td>Sun Aug 07 22:31:04 +0000 2022</td>\n",
       "      <td>&lt;a href=\"http://twitter.com/download/iphone\" r...</td>\n",
       "      <td>RT @ChinaUncensored: I’m sorry, I thought Taiw...</td>\n",
       "      <td>-6.938894e-18</td>\n",
       "      <td>0.556250</td>\n",
       "      <td>NaN</td>\n",
       "      <td>0</td>\n",
       "      <td>381</td>\n",
       "      <td>VizziniDolores</td>\n",
       "      <td>910</td>\n",
       "      <td>2608</td>\n",
       "      <td>NaN</td>\n",
       "      <td>[]</td>\n",
       "      <td>['ChinaUncensored']</td>\n",
       "      <td>Ayent, Schweiz</td>\n",
       "    </tr>\n",
       "  </tbody>\n",
       "</table>\n",
       "</div>"
      ],
      "text/plain": [
       "                       created_at  \\\n",
       "0  Sun Aug 07 22:31:20 +0000 2022   \n",
       "1  Sun Aug 07 22:31:16 +0000 2022   \n",
       "2  Sun Aug 07 22:31:07 +0000 2022   \n",
       "3  Sun Aug 07 22:31:06 +0000 2022   \n",
       "4  Sun Aug 07 22:31:04 +0000 2022   \n",
       "\n",
       "                                              source  \\\n",
       "0  <a href=\"http://twitter.com/download/android\" ...   \n",
       "1  <a href=\"http://twitter.com/download/android\" ...   \n",
       "2  <a href=\"http://twitter.com/download/android\" ...   \n",
       "3  <a href=\"http://twitter.com/download/android\" ...   \n",
       "4  <a href=\"http://twitter.com/download/iphone\" r...   \n",
       "\n",
       "                                       original_text      polarity  \\\n",
       "0  RT @i_ameztoy: Extra random image (I):\\n\\nLets... -1.250000e-01   \n",
       "1  RT @IndoPac_Info: #China's media explains the ... -1.000000e-01   \n",
       "2  China even cut off communication, they don't a...  0.000000e+00   \n",
       "3  Putin to #XiJinping : I told you my friend, Ta...  1.000000e-01   \n",
       "4  RT @ChinaUncensored: I’m sorry, I thought Taiw... -6.938894e-18   \n",
       "\n",
       "   subjectivity  lang  favorite_count  retweet_count original_author  \\\n",
       "0      0.190625   NaN               0              2       i_ameztoy   \n",
       "1      0.100000   NaN               0            201           ZIisq   \n",
       "2      0.000000   NaN               0              0       Fin21Free   \n",
       "3      0.350000   NaN               0              0       Fin21Free   \n",
       "4      0.556250   NaN               0            381  VizziniDolores   \n",
       "\n",
       "   followers_count  friends_count possibly_sensitive             hashtags  \\\n",
       "0            20497           2621                NaN             ['City']   \n",
       "1               65            272                NaN  ['China', 'Taiwan']   \n",
       "2               85            392                NaN        ['XiJinping']   \n",
       "3               85            392                NaN        ['XiJinping']   \n",
       "4              910           2608                NaN                   []   \n",
       "\n",
       "         user_mentions           place  \n",
       "0        ['i_ameztoy']             NaN  \n",
       "1     ['IndoPac_Info']             NaN  \n",
       "2      ['ZelenskyyUa']     Netherlands  \n",
       "3                   []     Netherlands  \n",
       "4  ['ChinaUncensored']  Ayent, Schweiz  "
      ]
     },
     "execution_count": 21,
     "metadata": {},
     "output_type": "execute_result"
    }
   ],
   "source": [
    "tweets_df.head()"
   ]
  },
  {
   "cell_type": "markdown",
   "id": "1cbad1ec",
   "metadata": {},
   "source": [
    "# Check for missing values"
   ]
  },
  {
   "cell_type": "code",
   "execution_count": 22,
   "id": "8d7ddada",
   "metadata": {},
   "outputs": [
    {
     "name": "stdout",
     "output_type": "stream",
     "text": [
      "The number of missing value(s) based on columns:\n",
      "created_at                0\n",
      "source                    0\n",
      "original_text             0\n",
      "polarity                  0\n",
      "subjectivity              0\n",
      "lang                  22000\n",
      "favorite_count            0\n",
      "retweet_count             0\n",
      "original_author           0\n",
      "followers_count           0\n",
      "friends_count             0\n",
      "possibly_sensitive    15809\n",
      "hashtags                  0\n",
      "user_mentions             0\n",
      "place                  9893\n",
      "dtype: int64\n",
      "The sum of missing value(s) is:\n",
      "47702\n"
     ]
    }
   ],
   "source": [
    "print(\"The number of missing value(s) based on columns:\\n{}\".format(tweets_df.isnull().sum()))\n",
    "print(\"The sum of missing value(s) is:\\n{}\".format(tweets_df.isnull().sum().sum()))"
   ]
  },
  {
   "cell_type": "markdown",
   "id": "c0305d59",
   "metadata": {},
   "source": [
    "# Data Cleaning"
   ]
  },
  {
   "cell_type": "code",
   "execution_count": 23,
   "id": "45649ed9",
   "metadata": {},
   "outputs": [],
   "source": [
    "import sys\n",
    "sys.path.append('../')\n"
   ]
  },
  {
   "cell_type": "code",
   "execution_count": 24,
   "id": "231abfea",
   "metadata": {},
   "outputs": [],
   "source": [
    "from clean_tweets_dataframe import Clean_Tweets"
   ]
  },
  {
   "cell_type": "code",
   "execution_count": 25,
   "id": "607fc3d9",
   "metadata": {},
   "outputs": [],
   "source": [
    "# Fill missing values \n",
    "processed_tweets = tweets_df.fillna(\"\")"
   ]
  },
  {
   "cell_type": "code",
   "execution_count": 26,
   "id": "8dcb3079",
   "metadata": {},
   "outputs": [],
   "source": [
    "import re\n",
    "\n",
    "def process_tweet(tweet):\n",
    "    \"\"\"Process tweet function.\n",
    "    Input:\n",
    "        tweet: a string containing a tweet\n",
    "    Output:\n",
    "        tweet: cleaned tweet\n",
    "\n",
    "    \"\"\"\n",
    "    # remove hashtags\n",
    "    tweet = re.sub('(#[A-Za-z]+[A-Za-z0-9-_]+)', '', tweet)\n",
    "    # remove @ handles\n",
    "    tweet = re.sub('(@[A-Za-z]+[A-Za-z0-9-_]+)', '', tweet)\n",
    "    # remove old style retweet text \"RT\"\n",
    "    tweet = re.sub(r'^RT[\\s]+', '', tweet)\n",
    "    # remove hyperlinks    \n",
    "    tweet = re.sub(r'https?://[^\\s\\n\\r]+', '', tweet)\n",
    "\n",
    "    return tweet"
   ]
  },
  {
   "cell_type": "code",
   "execution_count": 32,
   "id": "004b91d9",
   "metadata": {},
   "outputs": [],
   "source": [
    "def data_cleaner(df: pd.DataFrame, save=False) -> pd.DataFrame:\n",
    "    \"\"\"Data Cleaner Function.\n",
    "    Input:\n",
    "        df: Pandas Dataframe\n",
    "        save: Boolean value\n",
    "    Output:\n",
    "        df: Cleaned Dataframe\n",
    "\n",
    "    \"\"\"\n",
    "    Tweet_cleaner = Clean_Tweets(df)\n",
    "    df = Tweet_cleaner.remove_non_english_tweets(df)\n",
    "    df = Tweet_cleaner.drop_duplicate(df)\n",
    "    df = Tweet_cleaner.drop_unwanted_column(df)\n",
    "    df = Tweet_cleaner.drop_unwanted_column(df)\n",
    "    df = Tweet_cleaner.convert_to_datetime(df)\n",
    "    df = Tweet_cleaner.convert_to_numbers(df)\n",
    "    df['clean_text'] = df['original_text'].apply(df)\n",
    "    df['clean_text'] =  df['clean_text'].astype(str)\n",
    "    df['clean_text'] = df['clean_text'].apply(lambda x: x.lower())\n",
    "    df['clean_text']= df['clean_text'].apply(lambda x: x.translate(str.maketrans(' ', ' ', string.punctuation)))\n",
    "\n",
    "\n",
    "    if save:\n",
    "        try: \n",
    "            df.to_csv('../data/cleaned_tweet_data.csv', index=False)\n",
    "            \n",
    "            print('File Successfully Saved.!!!')\n",
    "        \n",
    "        except Exception as e:\n",
    "            print(\"Save failed...\",e)\n",
    "    return df"
   ]
  },
  {
   "cell_type": "code",
   "execution_count": 33,
   "id": "712cead2",
   "metadata": {},
   "outputs": [
    {
     "name": "stdout",
     "output_type": "stream",
     "text": [
      "Automation in Action...!!!\n",
      "File Successfully Saved.!!!\n"
     ]
    }
   ],
   "source": [
    "cleaned_df = data_cleaner(tweets_df, save=True)"
   ]
  },
  {
   "cell_type": "code",
   "execution_count": 31,
   "id": "072945ab",
   "metadata": {},
   "outputs": [
    {
     "name": "stdout",
     "output_type": "stream",
     "text": [
      "<class 'pandas.core.frame.DataFrame'>\n",
      "Int64Index: 0 entries\n",
      "Data columns (total 16 columns):\n",
      " #   Column              Non-Null Count  Dtype         \n",
      "---  ------              --------------  -----         \n",
      " 0   created_at          0 non-null      datetime64[ns]\n",
      " 1   source              0 non-null      object        \n",
      " 2   original_text       0 non-null      object        \n",
      " 3   polarity            0 non-null      float64       \n",
      " 4   subjectivity        0 non-null      float64       \n",
      " 5   lang                0 non-null      float64       \n",
      " 6   favorite_count      0 non-null      int64         \n",
      " 7   retweet_count       0 non-null      int64         \n",
      " 8   original_author     0 non-null      object        \n",
      " 9   followers_count     0 non-null      int64         \n",
      " 10  friends_count       0 non-null      int64         \n",
      " 11  possibly_sensitive  0 non-null      object        \n",
      " 12  hashtags            0 non-null      object        \n",
      " 13  user_mentions       0 non-null      object        \n",
      " 14  place               0 non-null      object        \n",
      " 15  clean_text          0 non-null      object        \n",
      "dtypes: datetime64[ns](1), float64(3), int64(4), object(8)\n",
      "memory usage: 0.0+ bytes\n"
     ]
    }
   ],
   "source": [
    "cleaned_df.info()"
   ]
  },
  {
   "cell_type": "markdown",
   "id": "380fa89b",
   "metadata": {},
   "source": []
  },
  {
   "cell_type": "code",
   "execution_count": null,
   "id": "e62b4676",
   "metadata": {},
   "outputs": [],
   "source": []
  },
  {
   "cell_type": "code",
   "execution_count": null,
   "id": "8422c7fa",
   "metadata": {},
   "outputs": [],
   "source": []
  }
 ],
 "metadata": {
  "kernelspec": {
   "display_name": "Python 3 (ipykernel)",
   "language": "python",
   "name": "python3"
  },
  "language_info": {
   "codemirror_mode": {
    "name": "ipython",
    "version": 3
   },
   "file_extension": ".py",
   "mimetype": "text/x-python",
   "name": "python",
   "nbconvert_exporter": "python",
   "pygments_lexer": "ipython3",
   "version": "3.10.4"
  }
 },
 "nbformat": 4,
 "nbformat_minor": 5
}
